{
  "nbformat": 4,
  "nbformat_minor": 0,
  "metadata": {
    "colab": {
      "name": "Assignment_2.ipynb",
      "version": "0.3.2",
      "provenance": [],
      "collapsed_sections": [],
      "include_colab_link": true
    },
    "kernelspec": {
      "display_name": "Python 3",
      "language": "python",
      "name": "python3"
    },
    "accelerator": "GPU"
  },
  "cells": [
    {
      "cell_type": "markdown",
      "metadata": {
        "id": "view-in-github",
        "colab_type": "text"
      },
      "source": [
        "[View in Colaboratory](https://colab.research.google.com/github/Aneeq/Python/blob/master/Assignment_2.ipynb)"
      ]
    },
    {
      "metadata": {
        "id": "WohLlMhVhDpc",
        "colab_type": "text"
      },
      "cell_type": "markdown",
      "source": [
        "<h3>Q no 1:  Write a python program to find number of occurrences of given number in a list with out using built-in methods</h3>\n",
        "<h4>**1 generate a list of some random num which is repeated again and again</h4>\n",
        "<h4>**2 take user input any number</h4>\n",
        "<h4>**3 find the number of occurrences of that num in your list</h4>\n",
        "<h4>**4 print some message to user with that result</h4>"
      ]
    },
    {
      "metadata": {
        "id": "sdN1D24fhDpd",
        "colab_type": "code",
        "colab": {
          "base_uri": "https://localhost:8080/",
          "height": 50
        },
        "outputId": "088729f9-4c34-4457-d138-069bf53bd850"
      },
      "cell_type": "code",
      "source": [
        "numberList = [1,2,3,4,5,2,2,2,3,3,4,4,4,4,4,5]\n",
        "\n",
        "inputNum = int(input('Input Number: '))\n",
        "count = 0\n",
        "for num in numberList:\n",
        "  if(num == inputNum):\n",
        "    count = count + 1\n",
        "    \n",
        "print(inputNum , \"occurs\" ,count, \"times.\")"
      ],
      "execution_count": 9,
      "outputs": [
        {
          "output_type": "stream",
          "text": [
            "Input Number: 2\n",
            "2 occurs 4 times.\n"
          ],
          "name": "stdout"
        }
      ]
    },
    {
      "metadata": {
        "id": "GA7FnMCwhDpp",
        "colab_type": "text"
      },
      "cell_type": "markdown",
      "source": [
        "<h3>Q no 2:   [\"www.zframez.com\", \"www.wikipedia.org\", \"www.asp.net\", \"www.abcd.in\"]\n",
        "<br/><br/>\n",
        "Write a python program to print website suffixes (com , org , net ,in) from this list\n",
        "</h3>"
      ]
    },
    {
      "metadata": {
        "id": "ueD9W13VhDpt",
        "colab_type": "code",
        "colab": {
          "base_uri": "https://localhost:8080/",
          "height": 84
        },
        "outputId": "555ba7d3-4554-4134-e1f4-eced49b210d6"
      },
      "cell_type": "code",
      "source": [
        "webList = [\"www.zframez.com\", \"www.wikipedia.org\", \"www.asp.net\", \"www.abcd.in\"]\n",
        "for web in webList:\n",
        "  str = web.split('.')[-1]\n",
        "  print(str)"
      ],
      "execution_count": 10,
      "outputs": [
        {
          "output_type": "stream",
          "text": [
            "com\n",
            "org\n",
            "net\n",
            "in\n"
          ],
          "name": "stdout"
        }
      ]
    },
    {
      "metadata": {
        "id": "GJGZjbpPhDpw",
        "colab_type": "text"
      },
      "cell_type": "markdown",
      "source": [
        "<h3> Q no 3 : Write a program which can compute the factorial of a given numbers.</h3>\n",
        "<h4>**1 first take user input any number</h4>\n",
        "<h4>**2 calculate factorial of that input and then print the result to user</h4>"
      ]
    },
    {
      "metadata": {
        "id": "GXNU2NXRhDpw",
        "colab_type": "code",
        "colab": {
          "base_uri": "https://localhost:8080/",
          "height": 50
        },
        "outputId": "71f840b0-acd6-4302-ec86-4b43b7fa2f88"
      },
      "cell_type": "code",
      "source": [
        "num = int(input('Input Number: '))\n",
        "result = 1\n",
        "if num <= 1:\n",
        "  print('Factorial: 1')\n",
        "else:\n",
        "  for i in range(num):\n",
        "    result = result * (i+1)\n",
        "\n",
        "print(\"Factorial: \" , result)"
      ],
      "execution_count": 11,
      "outputs": [
        {
          "output_type": "stream",
          "text": [
            "Input Number: 5\n",
            "Factorial:  120\n"
          ],
          "name": "stdout"
        }
      ]
    },
    {
      "metadata": {
        "id": "FArpUIKfhDqA",
        "colab_type": "text"
      },
      "cell_type": "markdown",
      "source": [
        "<h3>Q 4 (a) :  If you could invite anyone, living or deceased, to dinner, who\n",
        "would you invite? Make a list that includes at least three people you’d like to\n",
        "invite to dinner. Then use your list to print a message to each person, inviting\n",
        "them to dinner.</h3>"
      ]
    },
    {
      "metadata": {
        "id": "wcOiCPJihDqB",
        "colab_type": "code",
        "colab": {}
      },
      "cell_type": "code",
      "source": [
        "invited = [\"Ali\", \"Asad\", \"Ahmed\"]"
      ],
      "execution_count": 0,
      "outputs": []
    },
    {
      "metadata": {
        "id": "ICKAEeJwhDqE",
        "colab_type": "code",
        "colab": {
          "base_uri": "https://localhost:8080/",
          "height": 67
        },
        "outputId": "542c2d99-c116-4952-af3e-dd7096b5017c"
      },
      "cell_type": "code",
      "source": [
        "for people in invited:\n",
        "  print(people + \", You are invited.\")"
      ],
      "execution_count": 13,
      "outputs": [
        {
          "output_type": "stream",
          "text": [
            "Ali, You are invited.\n",
            "Asad, You are invited.\n",
            "Ahmed, You are invited.\n"
          ],
          "name": "stdout"
        }
      ]
    },
    {
      "metadata": {
        "id": "bXTO7sBlhDqQ",
        "colab_type": "text"
      },
      "cell_type": "markdown",
      "source": [
        "<h3>Q 4 (b) : You just heard that one of your guests can’t make the\n",
        "dinner, so you need to send out a new set of invitations. You’ll have to think of\n",
        "someone else to invite.<br/>\n",
        "•\t Start with your program from Q 4 (a). Add a print statement at the\n",
        "end of your program stating the name of the guest who can’t make it.<br/>\n",
        "•\t Modify your list, replacing the name of the guest who can’t make it with\n",
        "the name of the new person you are inviting.<br/>\n",
        "•\t Print a second set of invitation messages, one for each person who is still\n",
        "in your list.<br/></h3>"
      ]
    },
    {
      "metadata": {
        "id": "RpRWyswjhDqU",
        "colab_type": "code",
        "colab": {
          "base_uri": "https://localhost:8080/",
          "height": 84
        },
        "outputId": "4a75a6de-a303-41c7-a655-61e84f32d684"
      },
      "cell_type": "code",
      "source": [
        "print('Asad cannot come So, Anas will come. IN SHA ALLAH')\n",
        "invited[1]='Anas'\n",
        "for people in invited:\n",
        "  print(people + \", You are invited.\")"
      ],
      "execution_count": 14,
      "outputs": [
        {
          "output_type": "stream",
          "text": [
            "Asad cannot come So, Anas will come. IN SHA ALLAH\n",
            "Ali, You are invited.\n",
            "Anas, You are invited.\n",
            "Ahmed, You are invited.\n"
          ],
          "name": "stdout"
        }
      ]
    },
    {
      "metadata": {
        "id": "C7ZbR1NMhDqf",
        "colab_type": "text"
      },
      "cell_type": "markdown",
      "source": [
        "<h3>Q 4 (c) : You just found a bigger dinner table, so now more space is\n",
        "available. Think of three more guests to invite to dinner.<br/><br/>\n",
        "•\t Start with your program from Q 4 (a) and (b) Add a print\n",
        "statement to the end of your program informing people that you found a\n",
        "bigger dinner table.<br/>\n",
        "•\t Use insert() to add one new guest to the beginning of your list.<br/><br/>\n",
        "•\t Use insert() to add one new guest to the middle of your list.<br/><br/>\n",
        "•\t Use append() to add one new guest to the end of your list.<br/></br><br/>\n",
        "•\t Print a new set of invitation messages, one for each person in your list.<br/></h3>"
      ]
    },
    {
      "metadata": {
        "id": "9kqMd2jzhDqf",
        "colab_type": "code",
        "colab": {
          "base_uri": "https://localhost:8080/",
          "height": 118
        },
        "outputId": "53fc7713-f410-4375-818d-e827bdbb27df"
      },
      "cell_type": "code",
      "source": [
        "invited.insert(0,'Saad')\n",
        "invited.insert(2,'Subhan')\n",
        "invited.append('Sufi')\n",
        "for people in invited:\n",
        "  print(people + \", You are invited.\")"
      ],
      "execution_count": 15,
      "outputs": [
        {
          "output_type": "stream",
          "text": [
            "Saad, You are invited.\n",
            "Ali, You are invited.\n",
            "Subhan, You are invited.\n",
            "Anas, You are invited.\n",
            "Ahmed, You are invited.\n",
            "Sufi, You are invited.\n"
          ],
          "name": "stdout"
        }
      ]
    },
    {
      "metadata": {
        "id": "opdkjsF_hDqt",
        "colab_type": "text"
      },
      "cell_type": "markdown",
      "source": [
        "<h5> Q 5 : Here you have some data in variable below, your task is to make a list of specific word Surah then print the list and length of list</h5>\n"
      ]
    },
    {
      "metadata": {
        "id": "tM6vcFA-hDqv",
        "colab_type": "code",
        "colab": {}
      },
      "cell_type": "code",
      "source": [
        "data = \"Sura I Who believe in the Unseen, Sura Are steadfast in prayer, And spend Sura out of what We Have provided for them;\"\n"
      ],
      "execution_count": 0,
      "outputs": []
    },
    {
      "metadata": {
        "id": "9LkyNDwyhDqx",
        "colab_type": "code",
        "colab": {
          "base_uri": "https://localhost:8080/",
          "height": 50
        },
        "outputId": "3b9d8720-ba3f-46bc-dd3e-a5f60c8164d7"
      },
      "cell_type": "code",
      "source": [
        "listData = data.split()\n",
        "suraList=[]\n",
        "for sura in listData:\n",
        "  if sura == 'Sura':\n",
        "    suraList.append(sura)\n",
        "print('Sura List:',suraList)\n",
        "print('Sura repeated', len(suraList) ,'times.')"
      ],
      "execution_count": 17,
      "outputs": [
        {
          "output_type": "stream",
          "text": [
            "Sura List: ['Sura', 'Sura', 'Sura']\n",
            "Sura repeated 3 times.\n"
          ],
          "name": "stdout"
        }
      ]
    }
  ]
}