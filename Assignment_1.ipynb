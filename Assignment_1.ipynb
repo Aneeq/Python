{
  "nbformat": 4,
  "nbformat_minor": 0,
  "metadata": {
    "colab": {
      "name": "Assignment 07282018.ipynb",
      "version": "0.3.2",
      "views": {},
      "default_view": {},
      "provenance": [],
      "collapsed_sections": []
    },
    "kernelspec": {
      "display_name": "Python 3",
      "language": "python",
      "name": "python3"
    }
  },
  "cells": [
    {
      "metadata": {
        "id": "2ApSPlel5rbq",
        "colab_type": "text"
      },
      "cell_type": "markdown",
      "source": [
        "# ASSIGNMENT "
      ]
    },
    {
      "metadata": {
        "id": "0HjeWQmJ5rbv",
        "colab_type": "text"
      },
      "cell_type": "markdown",
      "source": [
        "<h3> 1 : Declare and initialize a variable name total_marks with a value 500</h3>\n"
      ]
    },
    {
      "metadata": {
        "id": "7slTteWv5rby",
        "colab_type": "code",
        "colab": {
          "autoexec": {
            "startup": false,
            "wait_interval": 0
          },
          "base_uri": "https://localhost:8080/",
          "height": 34
        },
        "outputId": "c794e21e-86db-4f8c-e081-2727cefd8c9a",
        "executionInfo": {
          "status": "ok",
          "timestamp": 1532803688553,
          "user_tz": -300,
          "elapsed": 972,
          "user": {
            "displayName": "Aneeq-ur-Rahman Khan",
            "photoUrl": "//lh3.googleusercontent.com/-1MAO9dLsyco/AAAAAAAAAAI/AAAAAAAAT3w/C9QSw0MejxY/s50-c-k-no/photo.jpg",
            "userId": "114786498373565298010"
          }
        }
      },
      "cell_type": "code",
      "source": [
        "total_marks = 500\n",
        "total_marks"
      ],
      "execution_count": 1,
      "outputs": [
        {
          "output_type": "execute_result",
          "data": {
            "text/plain": [
              "500"
            ]
          },
          "metadata": {
            "tags": []
          },
          "execution_count": 1
        }
      ]
    },
    {
      "metadata": {
        "id": "SREwnCz45rcA",
        "colab_type": "text"
      },
      "cell_type": "markdown",
      "source": [
        "<h3> 2 : Declare and initialize 5 variables name maths , english , urdu , physics and chemisrty with different integer values</h3>"
      ]
    },
    {
      "metadata": {
        "id": "bgmYXJxo5rcD",
        "colab_type": "code",
        "colab": {
          "autoexec": {
            "startup": false,
            "wait_interval": 0
          },
          "base_uri": "https://localhost:8080/",
          "height": 102
        },
        "outputId": "dd3f6a90-7ac2-4bc4-bdd8-f0b54a19358f",
        "executionInfo": {
          "status": "ok",
          "timestamp": 1532803691812,
          "user_tz": -300,
          "elapsed": 1232,
          "user": {
            "displayName": "Aneeq-ur-Rahman Khan",
            "photoUrl": "//lh3.googleusercontent.com/-1MAO9dLsyco/AAAAAAAAAAI/AAAAAAAAT3w/C9QSw0MejxY/s50-c-k-no/photo.jpg",
            "userId": "114786498373565298010"
          }
        }
      },
      "cell_type": "code",
      "source": [
        "maths = 90\n",
        "english = 80\n",
        "urdu = 85\n",
        "physics = 75\n",
        "chemistry = 65\n",
        "\n",
        "print(maths)\n",
        "print(english)\n",
        "print(urdu)\n",
        "print(physics)\n",
        "print(chemistry)"
      ],
      "execution_count": 2,
      "outputs": [
        {
          "output_type": "stream",
          "text": [
            "90\n",
            "80\n",
            "85\n",
            "75\n",
            "65\n"
          ],
          "name": "stdout"
        }
      ]
    },
    {
      "metadata": {
        "id": "q-BADE1I5rcN",
        "colab_type": "text"
      },
      "cell_type": "markdown",
      "source": [
        "<h3>3 : Calculate the obtained marks And assign the value In variable name obtained_marks</h3>"
      ]
    },
    {
      "metadata": {
        "id": "khD0Y6Ef5rcS",
        "colab_type": "code",
        "colab": {
          "autoexec": {
            "startup": false,
            "wait_interval": 0
          },
          "base_uri": "https://localhost:8080/",
          "height": 34
        },
        "outputId": "77ee7f23-0369-42b0-ff52-0a75eaf94743",
        "executionInfo": {
          "status": "ok",
          "timestamp": 1532803700768,
          "user_tz": -300,
          "elapsed": 761,
          "user": {
            "displayName": "Aneeq-ur-Rahman Khan",
            "photoUrl": "//lh3.googleusercontent.com/-1MAO9dLsyco/AAAAAAAAAAI/AAAAAAAAT3w/C9QSw0MejxY/s50-c-k-no/photo.jpg",
            "userId": "114786498373565298010"
          }
        }
      },
      "cell_type": "code",
      "source": [
        "obtained_marks = 395\n",
        "obtained_marks"
      ],
      "execution_count": 4,
      "outputs": [
        {
          "output_type": "execute_result",
          "data": {
            "text/plain": [
              "395"
            ]
          },
          "metadata": {
            "tags": []
          },
          "execution_count": 4
        }
      ]
    },
    {
      "metadata": {
        "id": "wdJnNp3_5rce",
        "colab_type": "text"
      },
      "cell_type": "markdown",
      "source": [
        "<h3>4 : Calculate percentage and assign the value in variable name percentage</h3>"
      ]
    },
    {
      "metadata": {
        "id": "aqodInse5rch",
        "colab_type": "code",
        "colab": {
          "autoexec": {
            "startup": false,
            "wait_interval": 0
          },
          "base_uri": "https://localhost:8080/",
          "height": 34
        },
        "outputId": "b786b133-a288-4914-d6ef-612d336170de",
        "executionInfo": {
          "status": "ok",
          "timestamp": 1532803737669,
          "user_tz": -300,
          "elapsed": 1145,
          "user": {
            "displayName": "Aneeq-ur-Rahman Khan",
            "photoUrl": "//lh3.googleusercontent.com/-1MAO9dLsyco/AAAAAAAAAAI/AAAAAAAAT3w/C9QSw0MejxY/s50-c-k-no/photo.jpg",
            "userId": "114786498373565298010"
          }
        }
      },
      "cell_type": "code",
      "source": [
        "percentage = 395/500 * 100\n",
        "percentage"
      ],
      "execution_count": 5,
      "outputs": [
        {
          "output_type": "execute_result",
          "data": {
            "text/plain": [
              "79.0"
            ]
          },
          "metadata": {
            "tags": []
          },
          "execution_count": 5
        }
      ]
    },
    {
      "metadata": {
        "id": "_QE39Vag5rcq",
        "colab_type": "text"
      },
      "cell_type": "markdown",
      "source": [
        "<h3>5 : Declare and initialize an empty variable name grade </h3>"
      ]
    },
    {
      "metadata": {
        "id": "R_sFgQsu5rct",
        "colab_type": "code",
        "colab": {
          "autoexec": {
            "startup": false,
            "wait_interval": 0
          },
          "base_uri": "https://localhost:8080/",
          "height": 34
        },
        "outputId": "065e29aa-4448-4a84-aeaf-4d8d81e41b60",
        "executionInfo": {
          "status": "ok",
          "timestamp": 1532803755895,
          "user_tz": -300,
          "elapsed": 866,
          "user": {
            "displayName": "Aneeq-ur-Rahman Khan",
            "photoUrl": "//lh3.googleusercontent.com/-1MAO9dLsyco/AAAAAAAAAAI/AAAAAAAAT3w/C9QSw0MejxY/s50-c-k-no/photo.jpg",
            "userId": "114786498373565298010"
          }
        }
      },
      "cell_type": "code",
      "source": [
        "grade = \"\"\n",
        "grade"
      ],
      "execution_count": 7,
      "outputs": [
        {
          "output_type": "execute_result",
          "data": {
            "text/plain": [
              "''"
            ]
          },
          "metadata": {
            "tags": []
          },
          "execution_count": 7
        }
      ]
    },
    {
      "metadata": {
        "id": "Zcw-TF7B5rc2",
        "colab_type": "text"
      },
      "cell_type": "markdown",
      "source": [
        "<h3>6 : assign a vlue to grade by checking the following conditions:: </h3>\n",
        "<h3>if % is greater then and equal to 90 and less then 100 grade is A+ </h3>\n",
        "<h3>if % is greater then and equal to 80 and less then 90 grade is A </h3>\n",
        "<h3>if % is greater then and equal to 70 and less then 80 grade is B </h3>\n",
        "<h3>if % is greater then and equal to 60 and less then 70 grade is C </h3>\n",
        "<h3>if % is less than 60 grade is FAIL </h3>\n"
      ]
    },
    {
      "metadata": {
        "id": "drF0wMYt5rc4",
        "colab_type": "code",
        "colab": {
          "autoexec": {
            "startup": false,
            "wait_interval": 0
          }
        }
      },
      "cell_type": "code",
      "source": [
        "if(percentage >= 90 and percentage < 100):\n",
        "  grade = \"A+\"\n",
        "\n",
        "if percentage >= 80 and percentage < 90:\n",
        "  grade = \"A\"\n",
        "  \n",
        "if percentage >= 70 and percentage < 80:\n",
        "  grade = \"B\"\n",
        "\n",
        "if percentage >= 60 and percentage < 70:\n",
        "  grade = \"C\"\n",
        "  \n",
        "if percentage < 60:\n",
        "  grade = \"FAIL\""
      ],
      "execution_count": 0,
      "outputs": []
    },
    {
      "metadata": {
        "id": "UKvhucLk5rdD",
        "colab_type": "text"
      },
      "cell_type": "markdown",
      "source": [
        "<h3>7 : Print grade percentage and obtained marks</h3>"
      ]
    },
    {
      "metadata": {
        "id": "KblDkR275rdG",
        "colab_type": "code",
        "colab": {
          "autoexec": {
            "startup": false,
            "wait_interval": 0
          },
          "base_uri": "https://localhost:8080/",
          "height": 34
        },
        "outputId": "18cf9eca-75e9-4def-ce54-be623a11195f",
        "executionInfo": {
          "status": "ok",
          "timestamp": 1532803989555,
          "user_tz": -300,
          "elapsed": 721,
          "user": {
            "displayName": "Aneeq-ur-Rahman Khan",
            "photoUrl": "//lh3.googleusercontent.com/-1MAO9dLsyco/AAAAAAAAAAI/AAAAAAAAT3w/C9QSw0MejxY/s50-c-k-no/photo.jpg",
            "userId": "114786498373565298010"
          }
        }
      },
      "cell_type": "code",
      "source": [
        "grade"
      ],
      "execution_count": 9,
      "outputs": [
        {
          "output_type": "execute_result",
          "data": {
            "text/plain": [
              "'B'"
            ]
          },
          "metadata": {
            "tags": []
          },
          "execution_count": 9
        }
      ]
    },
    {
      "metadata": {
        "id": "gqNhNqeiPLz9",
        "colab_type": "code",
        "colab": {
          "autoexec": {
            "startup": false,
            "wait_interval": 0
          }
        }
      },
      "cell_type": "code",
      "source": [
        ""
      ],
      "execution_count": 0,
      "outputs": []
    }
  ]
}
